{
 "cells": [
  {
   "cell_type": "markdown",
   "metadata": {},
   "source": [
    "# 07 해시 함수"
   ]
  },
  {
   "cell_type": "markdown",
   "metadata": {},
   "source": [
    "## 해시 함수 특징\n",
    "* 입력값이 동일하면 해시 값도 동일\n",
    "* 입력값의 길이와 상관없이 해시 값의 길이는 동일\n",
    "* 서로 다른 입력값이 동일한 해시 값을 만들(해시 충돌) 확률은 낮음.\n",
    "\n",
    "## 암호학적으로 안전한 해시 함수는 추가 조건을 갖는다.\n",
    "* 제1 역상 공격(해시 값으로 입력값을 복원하는 방법)이 불가해야 함.\n",
    "* 제2 역상 공격(서로 다른 입력값으로 같거나 비슷한 해시 값을 찾는 방법)이 불가해야 함.\n",
    "  \n",
    "* 취약점은 언제나 발견될 수 있으므로, 안전하다는 의미는 '현 시점에서 안전하다'로 이해해야 함."
   ]
  },
  {
   "cell_type": "markdown",
   "metadata": {},
   "source": [
    "## 해시 함수 사용\n",
    "* 해시 함수를 이용하면 입력값이 이전의 저장한 값과 같은지 비교가 가능하다. -> 비밀번호를 검증할 때\n",
    "* 해시 함수를 사용하면 데이터가 변하지 않았음을 보장할 수 있다. -> 블록체인 거래 정보의 무결성 검증 (거래 정보를 해시값으로 장부에 저장하면, 다른 곳에서 거래 정보를 변경하여도 해시 값이 달라 변조 여부 파악 가능)\n",
    "* 해시 함수가 데이터 암호화를 제공하지는 않는다. 따라서 인터넷 이용 시 해시 값과 별개로 데이터 자체를 암호화할 필요가 있다. 그렇지 않으면 해시값 또한 변조될 위험이 있다."
   ]
  },
  {
   "cell_type": "markdown",
   "metadata": {},
   "source": [
    "## MD5 : message-digest algorithm5\n",
    "* MD5는 해시 충돌을 만들 수 있고, 따라서 해시 충돌이 가능한 MD5는 거의 사용되지 않는다."
   ]
  },
  {
   "cell_type": "code",
   "execution_count": 1,
   "metadata": {},
   "outputs": [
    {
     "name": "stdout",
     "output_type": "stream",
     "text": [
      "해시 값1=93231512ad5d452425b87cc71a31806d / 길이=32\n",
      "해시 값2=756e286cbeb27cd281fd272954daea3d / 길이=32\n"
     ]
    }
   ],
   "source": [
    "# UTF-8 -> MD5\n",
    "import hashlib\n",
    "\n",
    "def computeMD5(str):\n",
    "    hasher = hashlib.md5()\n",
    "    hasher.update(str.encode('utf-8'))\n",
    "    return hasher.hexdigest()\n",
    "\n",
    "hash1 = computeMD5('해시 값 1')\n",
    "hash2 = computeMD5('해시 값 2')\n",
    "\n",
    "print('해시 값1={0} / 길이={1}'.format(hash1, len(hash1)))\n",
    "print('해시 값2={0} / 길이={1}'.format(hash2, len(hash2)))"
   ]
  },
  {
   "cell_type": "markdown",
   "metadata": {},
   "source": [
    "## SHA-1 : Secure Hash Algorithm-1\n",
    "* 미국 국가안보국(NSA)에서 설계한 표준 해시 함수\n",
    "* 구글과 네덜란드 국립 정보연구소CWI에서 SHA-1 해시 충돌 방법을 발견함으로써, SHA-1도 사용하지 않는 추세다.\n",
    "* SHA-1 해시 충돌은 MD5보다 더 많은 연산이 필요하나, 취약점이 발견된 이상 더 효과적인 공격 방법이 나올 수 있기 때문이다.\n",
    "* 해시 충돌 가능성이 MD5보다 희박하여, 파일 무결성 검사 등 안전하지 않아도 되는 곳엔 쓰인다."
   ]
  },
  {
   "cell_type": "code",
   "execution_count": 2,
   "metadata": {},
   "outputs": [
    {
     "name": "stdout",
     "output_type": "stream",
     "text": [
      "해시 값1=91e2fe01d661a3a1e062e36887035a9d59e1e701 / 길이=40\n",
      "해시 값2=5a33397570277ab1f0ac8636f78515a1ce1d41e7 / 길이=40\n"
     ]
    }
   ],
   "source": [
    "# UTF-8 -> SHA-1\n",
    "import hashlib\n",
    "\n",
    "def computeSHA1(str):\n",
    "    hasher = hashlib.sha1()\n",
    "    hasher.update(str.encode('utf-8'))\n",
    "    return hasher.hexdigest()\n",
    "\n",
    "hash1 = computeSHA1('해시 값 1')\n",
    "hash2 = computeSHA1('해시 값 2')\n",
    "\n",
    "print('해시 값1={0} / 길이={1}'.format(hash1, len(hash1)))\n",
    "print('해시 값2={0} / 길이={1}'.format(hash2, len(hash2)))"
   ]
  },
  {
   "cell_type": "markdown",
   "metadata": {},
   "source": [
    "## SHA-2 : Secure Hash Algorithm-2\n",
    "* SHA-224, 256, 384, 512 등 여러 해시 함수를 가리키는 용어.\n",
    "* SHA-256 이상의 해시 함수 사용이 권장된다."
   ]
  },
  {
   "cell_type": "code",
   "execution_count": 3,
   "metadata": {},
   "outputs": [
    {
     "name": "stdout",
     "output_type": "stream",
     "text": [
      "해시 값1=f939d1f33ac5f1fafed3f3aa6dae7ba46ff2eb5378e254efb37d865b8df28dfa / 길이=64\n",
      "해시 값2=90d4c7ed76539b9e24149133273e191db1c6736314e1f04e19395bc53584932f / 길이=64\n",
      "해시 값3=23b60b9b51878ce1261a4c17082082ffd16d30ccca4e22eeed7dae3557efce4bab89c61e84bdf7f529d7369b8e15ffcdd647c3412d74f2ea3adff2ecd341aa72 / 길이=128\n",
      "해시 값4=14da0826732e37d2b2b974f1c6e616c5562b01246118eadc8875d4cb2fdd914957de9174fb70852535d8f8351d201bc347e4c832fdd24947c0beac234a943bf9 / 길이=128\n"
     ]
    }
   ],
   "source": [
    "# UTF-8 -> SHA-2 (256, 512)\n",
    "import hashlib\n",
    "\n",
    "def computeSHA256(str):\n",
    "    hasher = hashlib.sha256()\n",
    "    hasher.update(str.encode('utf-8'))\n",
    "    return hasher.hexdigest()\n",
    "\n",
    "def computeSHA512(str):\n",
    "    hasher = hashlib.sha512()\n",
    "    hasher.update(str.encode('utf-8'))\n",
    "    return hasher.hexdigest()\n",
    "\n",
    "hash1 = computeSHA256('해시 값 1')\n",
    "hash2 = computeSHA256('해시 값 2')\n",
    "hash3 = computeSHA512('해시 값 1')\n",
    "hash4 = computeSHA512('해시 값 2')\n",
    "\n",
    "print('해시 값1={0} / 길이={1}'.format(hash1, len(hash1)))\n",
    "print('해시 값2={0} / 길이={1}'.format(hash2, len(hash2)))\n",
    "print('해시 값3={0} / 길이={1}'.format(hash3, len(hash3)))\n",
    "print('해시 값4={0} / 길이={1}'.format(hash4, len(hash4)))"
   ]
  },
  {
   "cell_type": "markdown",
   "metadata": {},
   "source": [
    "## 해시 함수 생성 속도\n",
    "* 안전한 해시함수일수록 길이가 더 길다.\n",
    "* 안전할수록 계산 비용도 커진다."
   ]
  },
  {
   "cell_type": "code",
   "execution_count": 4,
   "metadata": {},
   "outputs": [
    {
     "name": "stdout",
     "output_type": "stream",
     "text": [
      "Elapsed time(MD5)=1.5149999996647239\n",
      "Elapsed time(SHA-512)=1.8280000002123415\n"
     ]
    }
   ],
   "source": [
    "import hashlib\n",
    "import time\n",
    "\n",
    "def computeMD5(str):\n",
    "    hasher = hashlib.md5()\n",
    "    hasher.update(str.encode('utf-8'))\n",
    "    return hasher.hexdigest()\n",
    "\n",
    "def computeSHA512(str):\n",
    "    hasher = hashlib.sha512()\n",
    "    hasher.update(str.encode('utf-8'))\n",
    "    return hasher.hexdigest()\n",
    "\n",
    "# 백만 개의 MD5 해시 생성 속도를 측정합니다.\n",
    "md5_t1 = time.monotonic()\n",
    "for i in range(1, 1000000):\n",
    "    computeMD5(str('hash_test_key_{0}'.format(i)))\n",
    "\n",
    "md5_t2 = time.monotonic()\n",
    "\n",
    "# 백만 개의 SHA-512 해시 생성 속도를 측정합니다.\n",
    "sha2_t1 = time.monotonic()\n",
    "for i in range(1, 1000000):\n",
    "    computeSHA512(str('hash_test_key_{0}'.format(i)))\n",
    "\n",
    "sha2_t2 = time.monotonic()\n",
    "\n",
    "print(\"Elapsed time(MD5)={0}\".format(md5_t2-md5_t1))\n",
    "print(\"Elapsed time(SHA-512)={0}\".format(sha2_t2-sha2_t1))"
   ]
  },
  {
   "cell_type": "markdown",
   "metadata": {},
   "source": [
    "## 실사용\n",
    "* SHA-256, 512를 사용하면 민감한 데이터를 안전하게 저장할 수 있으나, 이 둘은 해시 값 계산 비용이 크므로, 해커가 무차별 대입 공격brute force attack 혹은 서비스 거부 공격 DDOS와 같이 매우 많은 요청을 동시에 보내면 쉽게 서비스 장애가 발생한다.\n",
    "* 대규모 사용자를 기반으로 한 서비스일 경우, SHA-2 대신 멀티 코어 활용이 가능한 Blake2b를 사용한다."
   ]
  },
  {
   "cell_type": "code",
   "execution_count": 1,
   "metadata": {},
   "outputs": [
    {
     "name": "stdout",
     "output_type": "stream",
     "text": [
      "ID를 입력하세요: \n",
      "비밀번호를 입력하세요: \n",
      ": 비밀번호를 설정했습니다.\n",
      "ID를 입력하세요: \n",
      "비밀번호를 입력하세요: \n",
      "ID1: 비밀번호를 설정했습니다.\n",
      "ID를 입력하세요: \n",
      "비밀번호를 입력하세요: \n",
      "ID1: 비밀번호가 일치합니다.\n",
      "ID를 입력하세요: \n",
      "비밀번호를 입력하세요: \n",
      "PW1: 비밀번호를 설정했습니다.\n",
      "ID를 입력하세요: \n"
     ]
    }
   ],
   "source": [
    "# 회원가입\n",
    "\n",
    "import hashlib\n",
    "\n",
    "hash_map = {}\n",
    "\n",
    "def computeSHA256(str):\n",
    "    hasher = hashlib.sha256()\n",
    "    # 해시 함수 알고리즘을 알아도 비밀번호를 유추할 수 없게 salt 값을 추가\n",
    "    hasher.update((str + 'my_salt').encode('utf-8'))\n",
    "    return hasher.hexdigest()\n",
    "\n",
    "\n",
    "while True:\n",
    "    print('ID를 입력하세요: ')\n",
    "    user_id = input()\n",
    "    print('비밀번호를 입력하세요: ')\n",
    "    password = input()\n",
    "    if user_id in hash_map:\n",
    "        if hash_map[user_id] == computeSHA256(password):\n",
    "            print('{0}: 비밀번호가 일치합니다.'.format(user_id))\n",
    "        else:\n",
    "            print('{0}: 비밀번호가 일치하지 않습니다.'.format(user_id))\n",
    "    else:\n",
    "        hash_map[user_id] = computeSHA256(password)\n",
    "        print('{0}: 비밀번호를 설정했습니다.'.format(user_id))"
   ]
  },
  {
   "cell_type": "markdown",
   "metadata": {},
   "source": [
    "* 위 프로그램에서 비밀번호는 지역 변수를 제외한 곳엔 저장하지 않았다. 비밀번호 등이 저장된 변수는 최대한 빨리 메모리 해제를 유도하거나 해시값으로 변수를 재사용하는 것이 좋다.\n",
    "* 입력값에 소금을 친다는 의미로 salt라 하며, 반드시 my_salt라는 문자열일 필요는 없다. 이것은 설계자가 정한다.\n",
    "\n",
    "## salt 사용 이유 (p.113)\n",
    "* salt가 없다면, 입력값이 같으면 결과값도 같은 해시 함수의 특징을 이용하여 원래 비밀번호 유추가 가능하다. 해시 값으로 비밀번호 복원은 불가하나, 예상 비밀번호와 해시 함수를 조합해 만든 해시 값을, 실제 저장된 해시 값과 일치하는지 비교하는 방법으로 비밀번호를 유추할 수 있다.\n",
    "* salt가 없는 웹 서비스에서도 해시값을 그대로 사용할 수 있다. 즉, salt가 없다면, 노출된 해시 값을 같은 해시 함수를 쓰는 다른 서비스에서 비밀번호로 사용할 수 있을 것이다."
   ]
  },
  {
   "cell_type": "markdown",
   "metadata": {},
   "source": [
    "## 웹 서비스에서 해시 값 만드는 방법들\n",
    "1. 서버로 보내기 전 클라이언트에서 해시 값 만들기\n",
    "- 서버 입장에선 평문으로 된 비밀번호(해시 값)을 받아 비교한 후 그대로 저장하는 구조가 되므로, 해시 함수를 사용하는 의미가 없어진다. DB가 해킹이라도 되면 큰 문제가 생김.\n",
    "2. 서버에서 해시 값 만들기\n",
    "- 거의 모든 경우 클라이언트에서 평문으로 된 비밀번호를 보내면, 서버에서 가능한 빨리 해시 값으로 변환 후 사용하는 방법이 애용된다.\n",
    "- 평문으로 된 비밀번호는 HTTPS를 사용하는 것으로 쉽게 방지 가능."
   ]
  },
  {
   "cell_type": "markdown",
   "metadata": {},
   "source": [
    "## 바이너리 데이터의 무결성 검증\n",
    "- 인기 있는 이미지 파일은 메신저에서 많이 공유된다. 메신저 서버에서 긴 시간 동안 파일의 해시 값을 갖고 있다면, 같은 파일인지 아닌지 알 수 있으므로 저장 공간을 크게 줄일 수 있을 것이다.\n",
    "- 해시 함수는 바이너리 데이터로부터 고유 식별자 생성에 좋다.\n",
    "- 해시 값은 중복 데이터 검사 혹은 파일의 무결성 검사 등에 쓰인다.\n",
    "- 암호학적으로 민감하지 않고, 빠른 성능이 필요할 때는 MurmurHash3 등이 쓰인다."
   ]
  },
  {
   "cell_type": "markdown",
   "metadata": {},
   "source": [
    "## 해시 값을 키로 사용\n",
    "- 해시 값을 키로 사용할 경우 충돌 처리가 필수적이다.\n",
    "- Birthday paradox : 두 사람이 생일이 같을 확률은 매우 낮으나, 23명이 모이면 생일이 같은 두 사람이 있을 확률은 50%를 넘고, 57명이면 99%가 넘는다.\n",
    "- Birthday paradox처럼 해시 값도 길이가 충분히 길어 충돌 확률이 낮더라도, 생성된 키가 많을수록 충돌 확률이 기하급수적으로 높아진다. 이를 고려해야 한다."
   ]
  },
  {
   "cell_type": "markdown",
   "metadata": {},
   "source": [
    "## 정리\n",
    "- 해시 함수 입력 값의 크기를 고민해야 한다.\n",
    "- 해시 값의 용도를 고민해야 한다. 값 자체가 의미를 갖는지, 식별자로 사용하는 지 등"
   ]
  }
 ],
 "metadata": {
  "kernelspec": {
   "display_name": "Python 3.7.7 64-bit",
   "language": "python",
   "name": "python3"
  },
  "language_info": {
   "codemirror_mode": {
    "name": "ipython",
    "version": 3
   },
   "file_extension": ".py",
   "mimetype": "text/x-python",
   "name": "python",
   "nbconvert_exporter": "python",
   "pygments_lexer": "ipython3",
   "version": "3.7.7"
  },
  "orig_nbformat": 4,
  "vscode": {
   "interpreter": {
    "hash": "d49c3f6d6dd49f9272b571d9fad348ab55b8c6c3f691520d74ed0af1f69c3dd8"
   }
  }
 },
 "nbformat": 4,
 "nbformat_minor": 2
}
