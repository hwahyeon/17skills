{
 "cells": [
  {
   "cell_type": "markdown",
   "metadata": {},
   "source": [
    "# 04 정규 표현식"
   ]
  },
  {
   "cell_type": "code",
   "execution_count": 2,
   "metadata": {},
   "outputs": [],
   "source": [
    "# 패턴 일치 함수 생성\n",
    "import re\n",
    "\n",
    "def find_pattern(pattern, string):\n",
    "    match = re.findall(pattern, string)\n",
    "    if not match:\n",
    "        print(\"일치 없음\")\n",
    "        return\n",
    "\n",
    "    print(\"일치 : {0}\".format(match))"
   ]
  },
  {
   "cell_type": "code",
   "execution_count": 7,
   "metadata": {},
   "outputs": [
    {
     "name": "stdout",
     "output_type": "stream",
     "text": [
      "일치 : ['o', 'o']\n",
      "일치 : ['e', 'l', 'l', 'o', 'o', 'r', 'l', 'd']\n",
      "일치 : ['H', 'W']\n",
      "일치 : ['H', 'e', 'l', 'l', 'o', 'W', 'o', 'r', 'l', 'd']\n",
      "일치 : ['1', '2', '3', '4', '5']\n",
      "일치 : ['H', 'e', 'l', 'l', 'o', 'W', 'o', 'r', 'l', 'd', '1', '2', '3', '4', '5']\n"
     ]
    }
   ],
   "source": [
    "# 특정 문자 1개\n",
    "find_pattern('o', 'Hello World')\n",
    "# 소문자\n",
    "find_pattern('[a-z]', 'Hello World, 1,2,3,4,5')\n",
    "# 대문자\n",
    "find_pattern('[A-Z]', 'Hello World, 1,2,3,4,5')\n",
    "# 대소문자 모두\n",
    "find_pattern('[a-zA-Z]', 'Hello World, 1,2,3,4,5')\n",
    "# 숫자 1개만\n",
    "find_pattern('[0-9]', 'Hello World, 1,2,3,4,5')\n",
    "# 대소 문자 또는 숫자 1개\n",
    "find_pattern('[a-zA-Z0-9]', 'Hello World, 1,2,3,4,5')"
   ]
  },
  {
   "cell_type": "markdown",
   "metadata": {},
   "source": [
    "### 유용 패턴\n",
    "* \\w : 특수 문자, 공백을 제외한 글자 1개 \n",
    "* \\W : 특수 문자와 공백만 찾을 때\n",
    "* 대괄호 안 캐럿(^) : NOT을 뜻하며 캐럿 이후에 오는 패턴을 제외한 모든 글자 `[^A-Z]`는 대문자를 제외한 모든 글자 1개를 의미한다.\n",
    "* 대괄호 밖 캐럿(^) : 가장 처음에 오는 대문자를 찾는 패턴. `^[A-Z]`는 주어진 문자열의 첫 번째 문자가 대문자로 시작할 경우 대문자 찾는 패턴\n",
    "* 대괄호 밖 달러(`$`) : 캐럿과 반대의 의미로 가장 마지막 글자 검사. `[0-9]$`는 가장 마지막에 오는 글자가 숫자인지 검사\n",
    "* 대괄호 밖 점(.) : 점은 모든 글자를 포함하는 패턴. 공백을 포함한 모든 글자와 일치. [.]는 점 문자 1개만 검사하며 역슬래시는 필요 없음.\n",
    "* []는 문자 1개를 검사하는 표현식."
   ]
  },
  {
   "cell_type": "code",
   "execution_count": 8,
   "metadata": {},
   "outputs": [
    {
     "name": "stdout",
     "output_type": "stream",
     "text": [
      "일치 : ['\\\\', '[', ']']\n",
      "일치 : ['ello', 'orld']\n",
      "일치 : ['ell', 'orl', '1,2', ',3,', '4,5']\n",
      "일치 : ['ello', 'orld,', '1,2,3', ',4,5,']\n",
      "일치 : ['Hel']\n",
      "일치 : ['\\\\[]']\n"
     ]
    }
   ],
   "source": [
    "# 파이썬 언어는 문자옆 앞에 r을 붙여 다음과 같이 \\ 파싱을 피할 수 있다.\n",
    "# find_pattern(r'[\\\\\\[\\]]', r'!@#$%^&*()?><\\[]')\n",
    "find_pattern('[\\\\\\\\\\\\[\\\\]]', '!@#$%^&*()?><\\\\[]')\n",
    "# 소문자 문자열\n",
    "find_pattern('[a-z]+', r'Hello World, 1,2,3,4,5, !@#$%^&*()?></\\[]')\n",
    "# 글자 수가 3개인 문자열\n",
    "find_pattern('[a-z0-9,]{3}', r'Hello World, 1,2,3,4,5, !@#$%^&*()?></\\[]')\n",
    "# 최소 3글자, 최대 5글자의 문자열\n",
    "find_pattern('[a-z0-9,]{3,5}', r'Hello World, 1,2,3,4,5, !@#$%^&*()?></\\[]')\n",
    "# 첫 3글자가 소문자 또는 대문자인지 검사\n",
    "find_pattern('^[a-zA-Z]{3}', r'Hello World, 1,2,3,4,5, !@#$%^&*()?></\\[]')\n",
    "# 마지막 3글자가 소문자, 대문자, 숫자가 아닌지 (특수문자인지) 검사\n",
    "find_pattern('[^a-z^A-Z^0-9]{3}$', r'Hello World, 1,2,3,4,5,!@#$%^&*()?></\\[]')"
   ]
  },
  {
   "cell_type": "markdown",
   "metadata": {},
   "source": [
    "### 비밀번호 검증\n",
    "* 대문자가 최소 1개 이상일 것\n",
    "* 소문자가 최소 1개 이상일 것\n",
    "* 특수 문자가 최소 1개 이상일 것"
   ]
  },
  {
   "cell_type": "code",
   "execution_count": 4,
   "metadata": {},
   "outputs": [
    {
     "name": "stdout",
     "output_type": "stream",
     "text": [
      "<Your password@>\n",
      "최소 1개 이상의 숫자가 필요합니다.\n",
      "최소 8글자 이상이어야 합니다.\n"
     ]
    }
   ],
   "source": [
    "import re\n",
    "\n",
    "def check_password(password):\n",
    "    # len(password) >= 8 코드로도 검사할 수 있습니다.\n",
    "    result = re.search(r'.{8,}', password)\n",
    "    if not result:\n",
    "        print(\"최소 8글자 이상이어야 합니다.\")\n",
    "        return\n",
    "\n",
    "    print(password)\n",
    "    result = re.search(r'[a-z]+', password)\n",
    "    if not result:\n",
    "        print(\"최소 1개 이상의 소문자가 필요합니다.\")\n",
    "        return\n",
    "\n",
    "    result = re.search(r'[A-Z]+', password)\n",
    "    if not result:\n",
    "        print(\"최소 1개 이상의 대문자가 필요합니다.\")\n",
    "        return\n",
    "\n",
    "    result = re.search(r'[0-9]+', password)\n",
    "    if not result:\n",
    "        print(\"최소 1개 이상의 숫자가 필요합니다.\")\n",
    "        return\n",
    "\n",
    "    result = re.search(r'[@#$%^&+=]', password)\n",
    "    if not result:\n",
    "        print(\"최소 1개의 특수 문자(@#%^&+=)를 포함해야 합니다.\")\n",
    "        return\n",
    "\n",
    "    print(\"비밀번호 검증에 성공했습니다.\")\n",
    "\n",
    "\n",
    "check_password('<Your password@>')\n",
    "check_password('a')"
   ]
  },
  {
   "cell_type": "markdown",
   "metadata": {},
   "source": [
    "### 이메일 주소 검사\n",
    "* 이메일 검사 정규 표현식 표준은 RFC 5322이 있다."
   ]
  },
  {
   "cell_type": "code",
   "execution_count": 5,
   "metadata": {},
   "outputs": [
    {
     "name": "stdout",
     "output_type": "stream",
     "text": [
      "일치하는 데이터를 찾았습니다: ['gigone.lee', 'gmail.com']\n"
     ]
    }
   ],
   "source": [
    "import re\n",
    "\n",
    "def split_with_regex(pattern, string):\n",
    "    result = re.split(pattern, string)\n",
    "    if not result:\n",
    "        print(\"일치하는 데이터가 없습니다.\")\n",
    "        return\n",
    "\n",
    "    print(\"일치하는 데이터를 찾았습니다: {0}\".format(result))\n",
    "\n",
    "split_with_regex('@', 'gigone.lee@gmail.com')"
   ]
  },
  {
   "cell_type": "markdown",
   "metadata": {},
   "source": [
    "* 정규 표현식의 처리 속도는 꽤 느린 편이다. 패턴이 길수록 더 느려진다.\n",
    "* 정규 표현식의 처리 속도 때문에 병목이 생긴다면, 다른 접근 방법을 고민하는 것이 좋다.\n",
    "* 정규 표현식은 POSIX(또는 POSIX 확장), 펄 호환 규칙(PCRE)의 두 가지 규칙이 있다. 둘은 거의 비슷하나, 일부 다르게 동작하는 메서드가 있다. 사용하는 언어나 프레임웤이 어떤 정규 표현식 표준을 사용하는지 알아두는 것이 좋다."
   ]
  }
 ],
 "metadata": {
  "kernelspec": {
   "display_name": "Python 3.7.7 64-bit",
   "language": "python",
   "name": "python3"
  },
  "language_info": {
   "codemirror_mode": {
    "name": "ipython",
    "version": 3
   },
   "file_extension": ".py",
   "mimetype": "text/x-python",
   "name": "python",
   "nbconvert_exporter": "python",
   "pygments_lexer": "ipython3",
   "version": "3.7.7"
  },
  "orig_nbformat": 4,
  "vscode": {
   "interpreter": {
    "hash": "d49c3f6d6dd49f9272b571d9fad348ab55b8c6c3f691520d74ed0af1f69c3dd8"
   }
  }
 },
 "nbformat": 4,
 "nbformat_minor": 2
}
