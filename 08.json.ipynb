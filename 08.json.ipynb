{
 "cells": [
  {
   "cell_type": "markdown",
   "metadata": {},
   "source": [
    "# 08 JSON"
   ]
  },
  {
   "cell_type": "markdown",
   "metadata": {},
   "source": [
    "* JavaScript Object Notation은 key와 value로 구조화된 객체object에 담아 처리하는 규격이다.\n",
    "* 가공이 쉬워 디버깅이 편리하다.\n",
    "* JSON 규격은 UTF-8만 허용하고, BOM을 원칙적으로 허용하지 않는다.\n",
    "* UTF-16 환경인 윈도우나 자바, EUC-KR 등을 사용하는 환경에서는 주의가 필요하다.\n",
    "* JSON은 주석을 지원하지 않는다. 주석이 필요하면 XML이나 YAML처럼 주석 지원 메시지 규격을 사용할 것."
   ]
  },
  {
   "cell_type": "code",
   "execution_count": null,
   "metadata": {},
   "outputs": [],
   "source": [
    "'''{\n",
    "  \"number\": 12345,\n",
    "  \"pi\": 3.14,\n",
    "  \"str\": \"문자열 값\",\n",
    "  \"null_key\": null,\n",
    "  \"object\": {\n",
    "    \"str2\": \"문자열 값2\",\n",
    "    \"object2\": {\n",
    "      \"number2\": 12345\n",
    "    }\n",
    "  },\n",
    "  \"num_array\": [1, 2, 3, 4, 5],\n",
    "  \"str_array\": [\"one\", \"two\", \"three\", \"four\", \"five\"]\n",
    "}'''"
   ]
  },
  {
   "cell_type": "markdown",
   "metadata": {},
   "source": [
    "* JSON은 중괄호나 대괄호로 시작하지만, 실무에서는 대부분 중괄호를 선호한다. 대괄호로 배열을 시작할 시 배열 안에는 숫자, 문자, 객체 중 한 가지 형태로만 값을 표현할 수 있어 효율적인 업무 진행이 불가하기 대문이다.\n",
    "* 키는 큰따옴표로 감싼 문자열만 사용 가능하다. 정수, 실수는 키로 사용할 수 없다.\n",
    "* JSON은 UTF-8을 사용하므로, 한글이나 다른 언어로 키 문자열 사용이 가능하나, 특별한 경우가 아니면 아스키 코드 범위를 넘지 않는 것이 좋다.\n",
    "* JSON 객체/배열도 값으로 사용할 수 있다."
   ]
  },
  {
   "cell_type": "code",
   "execution_count": null,
   "metadata": {},
   "outputs": [],
   "source": [
    "# 대괄호로 표현하면 이처럼 한 가지 값 표현만 가능하다.\n",
    "'''\n",
    "[\n",
    "    1,2,3,4,5\n",
    "]\n",
    "'''"
   ]
  },
  {
   "cell_type": "markdown",
   "metadata": {},
   "source": [
    "### JSON 활용"
   ]
  },
  {
   "cell_type": "code",
   "execution_count": 1,
   "metadata": {},
   "outputs": [
    {
     "name": "stdout",
     "output_type": "stream",
     "text": [
      "{'number': 12345, 'pi': 3.14, 'str': '문자열 값', 'null_key': None, 'object': {'str2': '문자열 값2', 'object2': {'number2': 12345}}, 'num_array': [1, 2, 3, 4, 5], 'str_array': ['one', 'two', 'three', 'four', 'five']}\n"
     ]
    }
   ],
   "source": [
    "import json\n",
    "\n",
    "def open_json_file(filename):\n",
    "    with open(filename, encoding='UTF8') as file:\n",
    "        try:\n",
    "            return json.load(file)\n",
    "        except ValueError as e:\n",
    "            print('JSON 데이터를 파싱하는 데 실패했습니다. 사유={0}'.format(e))\n",
    "            return None\n",
    "\n",
    "# 잘못된 데이터가 올 수 있으므로 예외처리해주는 것이 좋다.\n",
    "\n",
    "json_data = open_json_file('./08.json/message1.json')\n",
    "if json_data:\n",
    "    print(json_data)"
   ]
  },
  {
   "cell_type": "code",
   "execution_count": 2,
   "metadata": {},
   "outputs": [
    {
     "name": "stdout",
     "output_type": "stream",
     "text": [
      "{'number': 12345, 'pi': 3.14, 'str': '문자열 값', 'null_key': None, 'object': {'str2': '문자열 값2', 'object2': {'number2': 12345}}, 'num_array': [1, 2, 3, 4, 5], 'str_array': ['one', 'two', 'three', 'four', 'five']}\n",
      "num_value=12345\n",
      "float_value=3.14\n",
      "str_value=문자열 값\n",
      "empty_value=None\n",
      "json_data['object']['str2']=문자열 값2\n",
      "n=1\n",
      "n=2\n",
      "n=3\n",
      "n=4\n",
      "n=5\n",
      "'unknown_key'는 존재하지 않습니다\n",
      "'unknown_key'는 존재하지 않습니다\n"
     ]
    }
   ],
   "source": [
    "import json\n",
    "\n",
    "def open_json_file(filename):\n",
    "    with open(filename, encoding='UTF8') as file:\n",
    "        try:\n",
    "            return json.load(file)\n",
    "        except ValueError as e:\n",
    "            print('JSON 데이터를 파싱하는 데 실패했습니다. 사유={0}'.format(e))\n",
    "            return None\n",
    "\n",
    "json_data = open_json_file('./08.json/message1.json')\n",
    "if not json_data:\n",
    "    # 더 이상 로직을 진행할 수 없으므로 종료합니다.\n",
    "    exit(0)\n",
    "\n",
    "print(json_data)\n",
    "\n",
    "# 정수\n",
    "num_value = json_data['number']\n",
    "# 실수\n",
    "float_value = json_data['pi']\n",
    "# 문자열\n",
    "str_value = json_data['str']\n",
    "# 빈 키(None)\n",
    "empty_value = json_data['null_key']\n",
    "\n",
    "print('num_value={0}'.format(num_value))\n",
    "print('float_value={0}'.format(float_value))\n",
    "print('str_value={0}'.format(str_value))\n",
    "print('empty_value={0}'.format(empty_value))\n",
    "\n",
    "# float_value가 3 이상 3.2 미만인지 검사하는 코드\n",
    "assert(3 <= float_value < 3.2)\n",
    "# str_value 가 null이 아니고 문자열 길이가 0 이상인지 검사하는 코드\n",
    "assert(str_value and len(str_value) > 0)\n",
    "\n",
    "# 객체 안 객체 접근\n",
    "json_data2 = json_data['object']\n",
    "print('json_data[\\'object\\'][\\'str2\\']={0}'.format(json_data2['str2']))\n",
    "\n",
    "# 배열 접근\n",
    "json_array = json_data['num_array']\n",
    "for n in json_array:\n",
    "    print('n={0}'.format(n))\n",
    "\n",
    "# 'unknown_key'를 읽는 잘못된 방법\n",
    "# unknown_value = json_data['unknown_key']\n",
    "# print('unknown_value={0}'.format(unknown_value))\n",
    "\n",
    "# 'unknown_key'를 읽는 올바른 방법 1\n",
    "try:\n",
    "    unknown_value = json_data['unknown_key']\n",
    "    print('unknown_value={0}'.format(unknown_value))\n",
    "except KeyError:\n",
    "    print('\\'unknown_key\\'는 존재하지 않습니다')\n",
    "\n",
    "# 'unknown_key'를 읽는 올바른 방법 2\n",
    "if 'unknown_key' in json_data:\n",
    "    unknown_value = json_data['unknown_key']\n",
    "    print('unknown_value={0}'.format(unknown_value))\n",
    "else:\n",
    "    print('\\'unknown_key\\'는 존재하지 않습니다')"
   ]
  }
 ],
 "metadata": {
  "kernelspec": {
   "display_name": "Python 3.7.7 64-bit",
   "language": "python",
   "name": "python3"
  },
  "language_info": {
   "codemirror_mode": {
    "name": "ipython",
    "version": 3
   },
   "file_extension": ".py",
   "mimetype": "text/x-python",
   "name": "python",
   "nbconvert_exporter": "python",
   "pygments_lexer": "ipython3",
   "version": "3.7.7"
  },
  "orig_nbformat": 4,
  "vscode": {
   "interpreter": {
    "hash": "d49c3f6d6dd49f9272b571d9fad348ab55b8c6c3f691520d74ed0af1f69c3dd8"
   }
  }
 },
 "nbformat": 4,
 "nbformat_minor": 2
}
