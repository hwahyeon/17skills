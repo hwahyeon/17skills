{
 "cells": [
  {
   "cell_type": "markdown",
   "metadata": {},
   "source": [
    "# 08 JSON"
   ]
  },
  {
   "cell_type": "markdown",
   "metadata": {},
   "source": [
    "* JavaScript Object Notation은 key와 value로 구조화된 객체object에 담아 처리하는 규격이다.\n",
    "* 가공이 쉬워 디버깅이 편리하다.\n",
    "* JSON 규격은 UTF-8만 허용하고, BOM을 원칙적으로 허용하지 않는다.\n",
    "* UTF-16 환경인 윈도우나 자바, EUC-KR 등을 사용하는 환경에서는 주의가 필요하다.\n",
    "* JSON은 주석을 지원하지 않는다. 주석이 필요하면 XML이나 YAML처럼 주석 지원 메시지 규격을 사용할 것."
   ]
  },
  {
   "cell_type": "code",
   "execution_count": null,
   "metadata": {},
   "outputs": [],
   "source": [
    "'''{\n",
    "  \"number\": 12345,\n",
    "  \"pi\": 3.14,\n",
    "  \"str\": \"문자열 값\",\n",
    "  \"null_key\": null,\n",
    "  \"object\": {\n",
    "    \"str2\": \"문자열 값2\",\n",
    "    \"object2\": {\n",
    "      \"number2\": 12345\n",
    "    }\n",
    "  },\n",
    "  \"num_array\": [1, 2, 3, 4, 5],\n",
    "  \"str_array\": [\"one\", \"two\", \"three\", \"four\", \"five\"]\n",
    "}'''"
   ]
  },
  {
   "cell_type": "markdown",
   "metadata": {},
   "source": [
    "* JSON은 중괄호나 대괄호로 시작하지만, 실무에서는 대부분 중괄호를 선호한다. 대괄호로 배열을 시작할 시 배열 안에는 숫자, 문자, 객체 중 한 가지 형태로만 값을 표현할 수 있어 효율적인 업무 진행이 불가하기 대문이다.\n",
    "* 키는 큰따옴표로 감싼 문자열만 사용 가능하다. 정수, 실수는 키로 사용할 수 없다.\n",
    "* JSON은 UTF-8을 사용하므로, 한글이나 다른 언어로 키 문자열 사용이 가능하나, 특별한 경우가 아니면 아스키 코드 범위를 넘지 않는 것이 좋다.\n",
    "* JSON 객체/배열도 값으로 사용할 수 있다."
   ]
  },
  {
   "cell_type": "code",
   "execution_count": null,
   "metadata": {},
   "outputs": [],
   "source": [
    "# 대괄호로 표현하면 이처럼 한 가지 값 표현만 가능하다.\n",
    "'''\n",
    "[\n",
    "    1,2,3,4,5\n",
    "]\n",
    "'''"
   ]
  },
  {
   "cell_type": "markdown",
   "metadata": {},
   "source": [
    "### JSON 활용"
   ]
  }
 ],
 "metadata": {
  "kernelspec": {
   "display_name": "Python 3.7.7 64-bit",
   "language": "python",
   "name": "python3"
  },
  "language_info": {
   "name": "python",
   "version": "3.7.7"
  },
  "orig_nbformat": 4,
  "vscode": {
   "interpreter": {
    "hash": "d49c3f6d6dd49f9272b571d9fad348ab55b8c6c3f691520d74ed0af1f69c3dd8"
   }
  }
 },
 "nbformat": 4,
 "nbformat_minor": 2
}
