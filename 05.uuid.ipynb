{
 "cells": [
  {
   "cell_type": "markdown",
   "metadata": {},
   "source": [
    "# 05 범용 고유 식별자"
   ]
  },
  {
   "cell_type": "markdown",
   "metadata": {},
   "source": [
    "* SW개발 시엔 다양한 형태의 식별자가 필요하다. 큰 작업을 여러 작업으로 나눌 때 각 작업의 진행 상태를 추적할 식별자(작업 ID), 서비스 이용자를 구분하기 위한 식별자(유저 ID), 클라이언트가 연속적인 요청을 보낸 것인지 새로운 요청을 보낸 것인지 구분을 위한 식별자(세션 ID) 등\n",
    "* 이런 식별자에 범용적으로 사용하는 것이 Universally Unique IDentifier : UUID이다.\n",
    "* 범용 고유 식별자란 컴퓨터 시스템 내에 고유한 객체를 식별하기 위해 사용하는 값이다."
   ]
  },
  {
   "cell_type": "markdown",
   "metadata": {},
   "source": [
    "### 5.1 UUID 구조\n",
    "* UUID는 하이픈 4개, 16진수 32개로 구성되어 있으며, 구조는 `8개-4개-4개-4개-12개`이다.\n",
    "* 하이픈을 생략하는 경우도 많다.\n",
    "* UUID 값을 저장할 때는 하이픈을 제외한 16진수만 저장한다. 16진수를 하나 표현하는 데 4비트(0.5바이트)이므로 총 32*4 = 128비트(16바이트)가 필요하다.\n",
    "* UUID는 32개의 16진수 모두 무작위로 만든다. 100경 개의 UUID를 생성했을 때 1쌍의 UUID가 충돌할 확률은 50%이다. 즉, 같은 UUID가 나올 확률은 매우 낮다.\n",
    "* 많은 식별자가 필요하지 않은 경우, 일부 값만 생성해서 사용하고 나머지는 고정 값을 사용한다. 예를 들어, UUID의 앞부분은 고정하고 뒷부분 12글자만 생성하여 맥 주소로 사용할 수 있다."
   ]
  },
  {
   "cell_type": "markdown",
   "metadata": {},
   "source": [
    "### 5.2 UUID 버전\n",
    "* UUID는 버전별로 방법과 규칙이 다르다.\n",
    "* 오늘날은 주로 버전 4 UUID나 이를 기반으로 직접 정의한 UUID를 사용한다."
   ]
  },
  {
   "cell_type": "markdown",
   "metadata": {},
   "source": [
    "### 버전1과 버전2\n",
    "* 초창기 버전의 UUID로 네트워크에 있는 고유한 컴퓨터들을 식별할 때 사용했음. 버전1은 컴퓨터의 맥 주소와 타임스탬프 값을 기반으로 UUID를 생성했고, 버전2는 자릿수 일부를 지역별 정의 site-defined로 남겨뒀다.\n",
    "* 맥 주소와 타임스탬프 값으로 서버를 식별하는 것은 한계가 있으므로, 버전 1, 2는 더 이상 사용하지 않는다. (ex 마이크로 서비스 아키텍처는 맥 주소가 달라도 같은 서버로 인식해야 한다. 도커와 같은 가상 서버는 같은 맥 주소를 가진 여러 서버를 동시에 생성할 수 있다.)\n",
    "  \n",
    "### 버전3과 버전5\n",
    "* 네임스페이스와 문자열을 받아 해시 함수를 사용해 UUID로 변환한다. 따라서 입력값이 같으면 UUID도 같으며, 해시 충돌 방지를 위해 별도의 네임스페이스 UUID를 받는다.\n",
    "* 버전 3의 UUID는 MD3를, 버전 5는 SHA-1를 기반으로 한다.\n",
    "* MD5는 취약점 발견 이후 사용하지 않으나, 시스템 내부에서 고유 데이터 식별 용도엔 문제가 없다.\n",
    "  \n",
    "### 버전4\n"
   ]
  },
  {
   "cell_type": "markdown",
   "metadata": {},
   "source": []
  },
  {
   "cell_type": "code",
   "execution_count": 1,
   "metadata": {},
   "outputs": [
    {
     "name": "stdout",
     "output_type": "stream",
     "text": [
      " * Serving Flask app \"__main__\" (lazy loading)\n",
      " * Environment: production\n",
      "\u001b[31m   WARNING: This is a development server. Do not use it in a production deployment.\u001b[0m\n",
      "\u001b[2m   Use a production WSGI server instead.\u001b[0m\n",
      " * Debug mode: off\n"
     ]
    },
    {
     "name": "stderr",
     "output_type": "stream",
     "text": [
      " * Running on http://127.0.0.1:5000/ (Press CTRL+C to quit)\n",
      "127.0.0.1 - - [12/Aug/2022 17:56:27] \"\u001b[37mGET / HTTP/1.1\u001b[0m\" 200 -\n",
      "127.0.0.1 - - [12/Aug/2022 17:56:27] \"\u001b[33mGET /favicon.ico HTTP/1.1\u001b[0m\" 404 -\n"
     ]
    },
    {
     "name": "stdout",
     "output_type": "stream",
     "text": [
      "API 요청 ID=cc094217-e45e-4d74-8107-9808d62839e7\n"
     ]
    }
   ],
   "source": [
    "#!/usr/bin/python3\n",
    "# 다음 코드를 실행하기 위해서는 flask 모듈이 필요합니다.\n",
    "\n",
    "import uuid\n",
    "from flask import Flask\n",
    "app = Flask(__name__)\n",
    "\n",
    "\n",
    "@app.route('/')\n",
    "def hello():\n",
    "    request_id = uuid.uuid4()\n",
    "    print('API 요청 ID={0}'.format(request_id))\n",
    "    return 'Hello World'\n",
    "\n",
    "\n",
    "if __name__ == '__main__':\n",
    "    app.run()"
   ]
  }
 ],
 "metadata": {
  "kernelspec": {
   "display_name": "Python 3.8.10 ('ML_tools')",
   "language": "python",
   "name": "python3"
  },
  "language_info": {
   "codemirror_mode": {
    "name": "ipython",
    "version": 3
   },
   "file_extension": ".py",
   "mimetype": "text/x-python",
   "name": "python",
   "nbconvert_exporter": "python",
   "pygments_lexer": "ipython3",
   "version": "3.8.10"
  },
  "orig_nbformat": 4,
  "vscode": {
   "interpreter": {
    "hash": "a3642eb5473cd7c22e8bc4b066b978c4ecd369f77d4df42c3de8b91af479e21f"
   }
  }
 },
 "nbformat": 4,
 "nbformat_minor": 2
}
