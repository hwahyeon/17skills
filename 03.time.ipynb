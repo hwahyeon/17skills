{
 "cells": [
  {
   "cell_type": "markdown",
   "metadata": {},
   "source": [
    "# 03 날짜와 시간"
   ]
  },
  {
   "cell_type": "markdown",
   "metadata": {},
   "source": [
    "### 3.1 타임스탬프 timestamp\n",
    "* 컴퓨터가 시간을 표현하기 위해 사용하는 값\n",
    "* 1970년 1월 1일 0시 0분 0초부터 1초 단위로 증가한다.\n",
    "* 1초 단위로 표기하나 1초 미만의 시간 측정도 가능하다. 밀리초, 마이크로초를 타임스탬프의 소수점 자리값으로 가져올 수 있다.\n",
    "* 타임스탬프는 단조시간 / 실제 시간으로 나뉜다."
   ]
  },
  {
   "cell_type": "code",
   "execution_count": 1,
   "metadata": {},
   "outputs": [
    {
     "name": "stdout",
     "output_type": "stream",
     "text": [
      "현재 시간(Unix epoch time): 1660286309.1944811\n"
     ]
    }
   ],
   "source": [
    "import time\n",
    "\n",
    "print(\"현재 시간(Unix epoch time): {0}\".format(time.time()))\n",
    "# 소숫점 자리 숫자가 1초 미만의 시간 단위임."
   ]
  },
  {
   "cell_type": "markdown",
   "metadata": {},
   "source": [
    "### 3.2 단조 시간\n",
    "* monotonic time\n",
    "* 단조 시간은 OS 도는 CPU와 같은 HW에서 직접 계산하는 시간을 말한다.\n",
    "* 실제 시간과는 다르나, OS가 시작한 이후 시점부터 바뀌지 않는 특징이 있다.\n",
    "* 사용자가 직접 값 변경이 가능하나, 재부팅 이후에는 값이 초기화된다.\n",
    "* 즉, 점진적으로 증가하고, 외부 요인에 의해 바뀌지 않는 특징이 있기에 불변성을 보장하는 시간 값이 필요할 때 사용한다."
   ]
  },
  {
   "cell_type": "code",
   "execution_count": 2,
   "metadata": {},
   "outputs": [
    {
     "name": "stdout",
     "output_type": "stream",
     "text": [
      "t1=152529.703\n",
      "t2=152532.718\n",
      "diff=3.014999999984866\n"
     ]
    }
   ],
   "source": [
    "import time\n",
    "\n",
    "# t1 시간 기록 (현재)\n",
    "t1 = time.monotonic()\n",
    "\n",
    "while True:\n",
    "    # t2 시간 기록\n",
    "    t2 = time.monotonic()\n",
    "    # 이 루프가 3초 이상 실행된 경우 종료합니다.\n",
    "    if t2 >= t1 + 3:\n",
    "        break\n",
    "\n",
    "    time.sleep(0.1)\n",
    "\n",
    "# 실제 시간 차이를 출력합니다.\n",
    "print(\"t1={0}\".format(t1))\n",
    "print(\"t2={0}\".format(t2))\n",
    "print(\"diff={0}\".format(t2-t1))"
   ]
  },
  {
   "cell_type": "markdown",
   "metadata": {},
   "source": [
    "* 위 프로그램에서 diff는 코드를 실행하는 환경과 상관없이 항상 3으로 일정하다. 이렇게 단조 시간은 두 작업 사이에 걸린 시간 측정 혹은 일정 시간 간격마다 수행해야 하는 작업 시간 측정에 사용한다."
   ]
  },
  {
   "cell_type": "markdown",
   "metadata": {},
   "source": [
    "### 3.3 실제 시간\n",
    "* real time은 wall clock 시간으로 부르기도 한다.\n",
    "* 실제 시간도 컴퓨터가 직접 계산하나, 주기적으로 시간 서버로부터 값을 가져와 동기화하기 때문에 언제든지 시간이 바뀔 수 있다. 이에, 실제 시간은 단조 시간처럼 시간차를 구하거나 간격 측정에 사용하지 않는다."
   ]
  },
  {
   "cell_type": "code",
   "execution_count": 3,
   "metadata": {},
   "outputs": [
    {
     "name": "stdout",
     "output_type": "stream",
     "text": [
      "현재 시간: 2022-08-12 15:46:11.676050\n",
      "루프 만료 시간: 2019-04-27 13:20:00\n"
     ]
    }
   ],
   "source": [
    "import datetime\n",
    "import time\n",
    "\n",
    "# t1 시간 기록 (특정 날짜)\n",
    "t1 = datetime.datetime(\n",
    "    year=2019, month=4, day=27, hour=13, minute=20, second=00)\n",
    "# t1 시간 기록 (특정 날짜를 현재 시간을 기준으로 할 경우)\n",
    "# t1 = datetime.datetime.now() + datetime.timedelta(minutes=1)\n",
    "\n",
    "while True:\n",
    "    now = datetime.datetime.now()\n",
    "    print(\"현재 시간: {0}\".format(now))\n",
    "    print(\"루프 만료 시간: {0}\".format(t1))\n",
    "    if t1 <= now:\n",
    "        break\n",
    "\n",
    "    time.sleep(1)"
   ]
  },
  {
   "cell_type": "markdown",
   "metadata": {},
   "source": [
    "* 위 프로그램처럼 실제 시간으로도 단조 시간처럼 날짜 간격 계산이 가능하다.\n",
    "* 단조 시간으로도 한 달을 잴 수 있다. 하지만 한 달은 28일, 29일, 30일, 31일 등 다양하기 때문에, 실제 시간을 기준으로 하는 것이 좋다.\n",
    "* 실제 시간은 외부 환경(사용자, 시스템)에 의해 언제든지 바뀔 수 있다. 예를 들어, 한 작업이 여러 서버에서 수행될 경우, 시간 값 오차로 생기는 위험은 커진다. 따라서 많은 상용 서비스 서버는 OS구성단계부터 모두 같은 시간 서버를 사용하게 설정하며, 시간 값이 서로 동기화되었는지 주기적인 확인을 거친다."
   ]
  },
  {
   "cell_type": "markdown",
   "metadata": {},
   "source": [
    "### 3.4 타임 존\n",
    "* 실제 시간을 사용할 땐 Time zone 설정을 필수적으로 확인해야 한다. 나라마다 사용하는 표준 시간이 다르기 때문이다. (한국은 UTC+9시간을 기준으로 표현한다.)\n",
    "* Greenwich Mean Time(GMT)는 여러 타임 존 중 하나일 뿐이며, Coordinated Universal Time(UTC)는 표준 시간을 뜻한다."
   ]
  },
  {
   "cell_type": "code",
   "execution_count": 4,
   "metadata": {},
   "outputs": [
    {
     "name": "stdout",
     "output_type": "stream",
     "text": [
      "시스템 기본 시간: 2022-08-12 15:59:22.508188\n",
      "UTC 시간: 2022-08-12 06:59:22.508188+00:00\n"
     ]
    }
   ],
   "source": [
    "import datetime\n",
    "\n",
    "# 시스템 기본 시간\n",
    "t1 = datetime.datetime.now()\n",
    "# UTC 시간\n",
    "t2 = datetime.datetime.now(tz=datetime.timezone.utc)\n",
    "\n",
    "print(\"시스템 기본 시간: {0}\".format(t1))\n",
    "print(\"UTC 시간: {0}\".format(t2))"
   ]
  },
  {
   "cell_type": "markdown",
   "metadata": {},
   "source": [
    "### 정리\n",
    "* 단조 시간은 실제 시간으로 사용할 수 없으나, 불변성을 보장하여 시간 차이 계산에 사용한다. 아래의 두 경우가 대표적이다.\n",
    "* - 특정 작업 수행에 걸린 시간 측정\n",
    "* - 일정한 주기(한 달 미만)로 작업 수행할 때"
   ]
  }
 ],
 "metadata": {
  "kernelspec": {
   "display_name": "Python 3.7.7 64-bit",
   "language": "python",
   "name": "python3"
  },
  "language_info": {
   "codemirror_mode": {
    "name": "ipython",
    "version": 3
   },
   "file_extension": ".py",
   "mimetype": "text/x-python",
   "name": "python",
   "nbconvert_exporter": "python",
   "pygments_lexer": "ipython3",
   "version": "3.7.7"
  },
  "orig_nbformat": 4,
  "vscode": {
   "interpreter": {
    "hash": "d49c3f6d6dd49f9272b571d9fad348ab55b8c6c3f691520d74ed0af1f69c3dd8"
   }
  }
 },
 "nbformat": 4,
 "nbformat_minor": 2
}
