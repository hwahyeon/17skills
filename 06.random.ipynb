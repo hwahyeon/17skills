{
 "cells": [
  {
   "cell_type": "markdown",
   "metadata": {},
   "source": [
    "# 06 난수"
   ]
  },
  {
   "cell_type": "markdown",
   "metadata": {},
   "source": [
    "### 6.1 유사 난수\n",
    "* 컴퓨터는 이론적으로 완벽한 난수 생성이 불가\n",
    "* 따라서 컴퓨터는 난수표, 난수 알고리즘, 알고리즘 초기화에 사용할 seed값으로 난수를 만듦. 이러한 것을 유사 난수 pseudo random이라 함.\n",
    "* 알고리즘 대신 열 잡음, 광전자 등 신호의 노이즈를 이용하여 시드가 필요 없는 하드웨어 랜덤 번호 생성기hardware random number generator (HRNG)를 사용하기도 함.\n",
    "* 유사 난수의 특징은 예측할 수 없는 난수를 생성한다는 것."
   ]
  },
  {
   "cell_type": "code",
   "execution_count": 1,
   "metadata": {},
   "outputs": [
    {
     "name": "stdout",
     "output_type": "stream",
     "text": [
      "9\n",
      "4\n",
      "3\n",
      "4\n",
      "5\n",
      "4\n",
      "5\n",
      "3\n",
      "3\n"
     ]
    }
   ],
   "source": [
    "import random\n",
    "\n",
    "for i in range(1, 10):\n",
    "    # seed 값을 현재 시간(타임스탬프)로 설정합니다.\n",
    "    random.seed()\n",
    "    print(random.randrange(1, 10))"
   ]
  },
  {
   "cell_type": "markdown",
   "metadata": {},
   "source": [
    "* 유사 난수 알고리즘에서 가장 대중적인 것은 메르센 트위스터 Mersenne Twister이다.\n",
    "* 메르센 트위스터는 충분히 큰 난수 주기와 균일한 난수 분포 그리고 빠른 생성 속도가 장점이다."
   ]
  },
  {
   "cell_type": "markdown",
   "metadata": {},
   "source": [
    "### 시드 값의 중요성\n",
    "* 유사 난수를 사용할 때는 시드 값이 적절하게 적용되야 한다.\n",
    "* 메르센 트위스터를 포함한 모든 유사 난수 알고리즘은 시드값이 같으면 같은 순서의 난수를 얻기 때문."
   ]
  },
  {
   "cell_type": "code",
   "execution_count": 2,
   "metadata": {},
   "outputs": [
    {
     "name": "stdout",
     "output_type": "stream",
     "text": [
      "7\n",
      "7\n",
      "7\n",
      "7\n",
      "7\n",
      "7\n",
      "7\n",
      "7\n",
      "7\n"
     ]
    }
   ],
   "source": [
    "import random\n",
    "\n",
    "for i in range(1, 10):\n",
    "    # seed 값을 0으로 설정\n",
    "    random.seed(0)\n",
    "    print(random.randrange(1, 10))\n"
   ]
  },
  {
   "cell_type": "markdown",
   "metadata": {},
   "source": [
    "* 624개의 난수만 확보하면 다음 난수를 예측할 수 있다.\n",
    "* 타임스탬프처럼 단순하게 증가하는 난수도 예측이 쉽다.\n",
    "* 예측 가능한 난수는 암호학적으로 안전하지 않다. 아래의 경우엔 예측 가능한 난수를 사용하면 안되는 경우들이다.\n",
    "* 엑세스 토큰, API 시크릿, OTP 인증 코드, 접근 URL, 1회용 암호 등 권한 증명에 사용하는 값 생성\n",
    "* 생성된 난수를 기준으로 게임 아이템/재화를 결정할 때 (랜덤 박스)"
   ]
  },
  {
   "cell_type": "markdown",
   "metadata": {},
   "source": [
    "### 6.2 암호학적으로 안전한 난수 secure random\n",
    "* 생성 속도가 느리지만 시드 값을 사용하지 않아 예측이 불가하다.\n",
    "* 리눅스/유닉스는 /dev/urandom 파일을 읽은 값을, 윈도우는 BCryptGenRandom() 함수에서 반환 값을 사용하여 노이즈에 기반한 난수를 얻을 수 있다. 파이썬은 OS와 상관없이 암호학적으로 안전한 난수를 사용할 수 있다."
   ]
  },
  {
   "cell_type": "code",
   "execution_count": 3,
   "metadata": {},
   "outputs": [
    {
     "name": "stdout",
     "output_type": "stream",
     "text": [
      "hex=c704769f, integer=2675311815\n",
      "hex=9919f857, integer=1475877273\n",
      "hex=80dc8ddb, integer=3683507328\n",
      "hex=1fd01081, integer=2165362719\n",
      "hex=4ecf1cc1, integer=3239890766\n",
      "hex=869d4ffb, integer=4216298886\n",
      "hex=6bbee3a8, integer=2833497707\n",
      "hex=3ecae769, integer=1776798270\n",
      "hex=18405904, integer=72957976\n"
     ]
    }
   ],
   "source": [
    "import os\n",
    "import struct\n",
    "\n",
    "for i in range(1, 10):\n",
    "    # 운영체에서 제공하는 기능을 사용해 랜덤하게 생성된 4바이트 값을 읽습니다.\n",
    "    random_four_byte = os.urandom(4)\n",
    "    # 4바이트 값을 정수로 변환한 후, 출력합니다.\n",
    "    random_integer = struct.unpack(\"<L\", random_four_byte)[0]\n",
    "    print('hex=' + random_four_byte.hex() + \", integer=\" + str(random_integer))"
   ]
  },
  {
   "cell_type": "markdown",
   "metadata": {},
   "source": [
    "### 난수 생성 속도 비교\n",
    "* random.randrange() 함수는 암호학적으로 안전한 난수 생성보다 더 느린 결과가 나온다. randrange()는 파이썬 인터프리터를 통해 동작하고, 다른 함수 (random과 urandom)는 C 코드로 작성된 모듈만 호출하여 더 빠르기 때문이다."
   ]
  },
  {
   "cell_type": "code",
   "execution_count": 4,
   "metadata": {},
   "outputs": [
    {
     "name": "stdout",
     "output_type": "stream",
     "text": [
      "Elapsed time(PRNG)=0.07800000000861473\n",
      "Elapsed time(SRNG)=0.21799999999348074\n"
     ]
    }
   ],
   "source": [
    "#!/usr/bin/python3\n",
    "\n",
    "import random\n",
    "import time\n",
    "import os\n",
    "\n",
    "# 유사 난수 값을 백만 번 생성한 후, 성능을 측정합니다.\n",
    "random.seed()\n",
    "prng_t1 = time.monotonic()\n",
    "for i in range(1, 1000000):\n",
    "    random.random()\n",
    "\n",
    "prng_t2 = time.monotonic()\n",
    "\n",
    "# 암호학적으로 안전한 난수 값을 백만 번 생성한 후, 성능을 측정합니다.\n",
    "srng_t1 = time.monotonic()\n",
    "for i in range(1, 1000000):\n",
    "    random_four_byte = os.urandom(4)\n",
    "\n",
    "srng_t2 = time.monotonic()\n",
    "\n",
    "print(\"Elapsed time(PRNG)={0}\".format(prng_t2-prng_t1))\n",
    "print(\"Elapsed time(SRNG)={0}\".format(srng_t2-srng_t1))"
   ]
  },
  {
   "cell_type": "markdown",
   "metadata": {},
   "source": [
    "### 6.3 공정한 난수, 셔플 백 shuffle bag\n",
    "* 난수를 제어하는 기법으로 발생할 수 있는 모든 가능성을 한 가방에 넣고 섞는 방법을 말한다."
   ]
  },
  {
   "cell_type": "code",
   "execution_count": 5,
   "metadata": {},
   "outputs": [
    {
     "name": "stdout",
     "output_type": "stream",
     "text": [
      "win=3 / loss=7\n",
      "[0, 0, 1, 1, 0, 0, 0, 0, 1, 0]\n"
     ]
    }
   ],
   "source": [
    "import random\n",
    "\n",
    "# 당첨 확률: 30%\n",
    "WIN_RATE = 0.3\n",
    "# 뽑기 횟수: 10개\n",
    "NUMBER_OF_DRAWS = 10\n",
    "\n",
    "# 뽑기 컨테이너와 승/패 개수\n",
    "draws = []\n",
    "win_draws = int(NUMBER_OF_DRAWS * WIN_RATE)\n",
    "loss_draws = NUMBER_OF_DRAWS - win_draws\n",
    "print(\"win={0} / loss={1}\".format(win_draws, loss_draws))\n",
    "\n",
    "# 당첨 제비를 넣습니다.\n",
    "for i in range(0, win_draws):\n",
    "    draws.append(1)\n",
    "\n",
    "# 그 다음 꽝 제비를 넣습니다.\n",
    "for i in range(0, loss_draws):\n",
    "    draws.append(0)\n",
    "\n",
    "# 제비를 섞습니다.\n",
    "random.seed()\n",
    "random.shuffle(draws)\n",
    "\n",
    "# 제비 출력\n",
    "print(draws)"
   ]
  },
  {
   "cell_type": "markdown",
   "metadata": {},
   "source": [
    "* 전체 요소가 너무 많거나, 희박한 경우, 모든 경우의 수를 담기 위해 컨테이너의 크기가 커진다는 단점이 있다.\n",
    "* 예를 들어, 희귀한 게임 아이템은 0.01%의 확률을 갖는데, 이를 셔플백으로 구현하기란 매우 어렵다. 사용자별로 셔플 백을 만들거나, 모든 사용자가 셔플 백 컨테이너 1개를 함께 사용하는 것이 현실적으로 불가하기 때문이다."
   ]
  },
  {
   "cell_type": "markdown",
   "metadata": {},
   "source": [
    "### 6.4 난수를 사용하는 목적\n",
    "* 식별자 생성 : 요청, 작업 ID와 같은 식별자 생성은 겹치지 않는 수를 빠르게 만드는 것이 중요하다.\n",
    "* OTP 또는 액세스 토큰 발급 : 요청, 작업 ID를 만들 때와 같이 서로 다른 서버에서 생성한 두 값이 충돌하지 않게 해야 하며 반드시 암호학적으로 안전한 난수여야 한다.\n",
    "* 게임의 규칙으로 사용할 경우 : 랜덤 박스 / 전투 규칙 등에 사용한다."
   ]
  }
 ],
 "metadata": {
  "kernelspec": {
   "display_name": "Python 3.7.7 64-bit",
   "language": "python",
   "name": "python3"
  },
  "language_info": {
   "codemirror_mode": {
    "name": "ipython",
    "version": 3
   },
   "file_extension": ".py",
   "mimetype": "text/x-python",
   "name": "python",
   "nbconvert_exporter": "python",
   "pygments_lexer": "ipython3",
   "version": "3.7.7"
  },
  "orig_nbformat": 4,
  "vscode": {
   "interpreter": {
    "hash": "d49c3f6d6dd49f9272b571d9fad348ab55b8c6c3f691520d74ed0af1f69c3dd8"
   }
  }
 },
 "nbformat": 4,
 "nbformat_minor": 2
}
